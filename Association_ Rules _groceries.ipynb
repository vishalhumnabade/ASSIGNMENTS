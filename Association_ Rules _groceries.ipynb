{
 "cells": [
  {
   "cell_type": "code",
   "execution_count": 1,
   "metadata": {
    "ExecuteTime": {
     "end_time": "2020-12-30T05:55:16.532280Z",
     "start_time": "2020-12-30T05:54:55.868284Z"
    }
   },
   "outputs": [
    {
     "name": "stdout",
     "output_type": "stream",
     "text": [
      "Requirement already satisfied: mlxtend in c:\\users\\pcs\\anaconda3\\lib\\site-packages (0.17.3)\n",
      "Requirement already satisfied: setuptools in c:\\users\\pcs\\anaconda3\\lib\\site-packages (from mlxtend) (49.2.0.post20200714)\n",
      "Requirement already satisfied: scikit-learn>=0.20.3 in c:\\users\\pcs\\anaconda3\\lib\\site-packages (from mlxtend) (0.23.1)\n",
      "Requirement already satisfied: pandas>=0.24.2 in c:\\users\\pcs\\anaconda3\\lib\\site-packages (from mlxtend) (1.0.5)\n",
      "Requirement already satisfied: numpy>=1.16.2 in c:\\users\\pcs\\anaconda3\\lib\\site-packages (from mlxtend) (1.18.5)\n",
      "Requirement already satisfied: matplotlib>=3.0.0 in c:\\users\\pcs\\anaconda3\\lib\\site-packages (from mlxtend) (3.3.3)\n",
      "Requirement already satisfied: joblib>=0.13.2 in c:\\users\\pcs\\anaconda3\\lib\\site-packages (from mlxtend) (0.16.0)\n",
      "Requirement already satisfied: scipy>=1.2.1 in c:\\users\\pcs\\anaconda3\\lib\\site-packages (from mlxtend) (1.5.0)\n",
      "Requirement already satisfied: threadpoolctl>=2.0.0 in c:\\users\\pcs\\anaconda3\\lib\\site-packages (from scikit-learn>=0.20.3->mlxtend) (2.1.0)\n",
      "Requirement already satisfied: pytz>=2017.2 in c:\\users\\pcs\\anaconda3\\lib\\site-packages (from pandas>=0.24.2->mlxtend) (2020.1)\n",
      "Requirement already satisfied: python-dateutil>=2.6.1 in c:\\users\\pcs\\anaconda3\\lib\\site-packages (from pandas>=0.24.2->mlxtend) (2.8.1)\n",
      "Requirement already satisfied: cycler>=0.10 in c:\\users\\pcs\\anaconda3\\lib\\site-packages (from matplotlib>=3.0.0->mlxtend) (0.10.0)\n",
      "Requirement already satisfied: kiwisolver>=1.0.1 in c:\\users\\pcs\\anaconda3\\lib\\site-packages (from matplotlib>=3.0.0->mlxtend) (1.2.0)\n",
      "Requirement already satisfied: pyparsing!=2.0.4,!=2.1.2,!=2.1.6,>=2.0.3 in c:\\users\\pcs\\anaconda3\\lib\\site-packages (from matplotlib>=3.0.0->mlxtend) (2.4.7)\n",
      "Requirement already satisfied: pillow>=6.2.0 in c:\\users\\pcs\\anaconda3\\lib\\site-packages (from matplotlib>=3.0.0->mlxtend) (7.2.0)\n",
      "Requirement already satisfied: six>=1.5 in c:\\users\\pcs\\anaconda3\\lib\\site-packages (from python-dateutil>=2.6.1->pandas>=0.24.2->mlxtend) (1.15.0)\n"
     ]
    }
   ],
   "source": [
    "!pip install mlxtend\n",
    "import pandas as pd\n",
    "import numpy as np\n",
    "from mlxtend.frequent_patterns import apriori,association_rules"
   ]
  },
  {
   "cell_type": "code",
   "execution_count": 6,
   "metadata": {
    "ExecuteTime": {
     "end_time": "2020-12-30T05:58:39.548169Z",
     "start_time": "2020-12-30T05:58:39.521098Z"
    }
   },
   "outputs": [],
   "source": [
    " groceries = []\n",
    "with open(\"groceries.csv\") as f:\n",
    "    groceries = f.read()\n",
    "\n",
    "\n",
    "\n",
    "# splitting the data into separate transactions using separator as \"\\n\"\n",
    "groceries = groceries.split(\"\\n\")\n",
    "groceries_list = []\n",
    "for i in groceries:\n",
    "    groceries_list.append(i.split(\",\"))\n",
    "    "
   ]
  },
  {
   "cell_type": "code",
   "execution_count": 7,
   "metadata": {
    "ExecuteTime": {
     "end_time": "2020-12-30T05:58:40.304656Z",
     "start_time": "2020-12-30T05:58:40.287611Z"
    }
   },
   "outputs": [],
   "source": [
    "all_groceries_list = [i for item in groceries_list for i in item]\n",
    "from collections import Counter\n",
    "\n",
    "item_frequencies = Counter(all_groceries_list)\n"
   ]
  },
  {
   "cell_type": "code",
   "execution_count": 8,
   "metadata": {
    "ExecuteTime": {
     "end_time": "2020-12-30T05:58:41.036713Z",
     "start_time": "2020-12-30T05:58:41.032704Z"
    }
   },
   "outputs": [],
   "source": [
    "# after sorting\n",
    "#item_frequencies = sorted(item_frequencies.items(),key = lambda x:x[1])\n",
    "item_frequencies = sorted(item_frequencies.items(),key = lambda x:x[1])"
   ]
  },
  {
   "cell_type": "code",
   "execution_count": 9,
   "metadata": {
    "ExecuteTime": {
     "end_time": "2020-12-30T05:58:42.392439Z",
     "start_time": "2020-12-30T05:58:42.386423Z"
    }
   },
   "outputs": [],
   "source": [
    "# Storing frequencies and items in separate variables \n",
    "frequencies = list(reversed([i[1] for i in item_frequencies]))\n",
    "items = list(reversed([i[0] for i in item_frequencies]))\n"
   ]
  },
  {
   "cell_type": "code",
   "execution_count": 10,
   "metadata": {
    "ExecuteTime": {
     "end_time": "2020-12-30T05:58:44.829589Z",
     "start_time": "2020-12-30T05:58:43.483406Z"
    }
   },
   "outputs": [
    {
     "name": "stderr",
     "output_type": "stream",
     "text": [
      "<ipython-input-10-2201dfd3438c>:5: MatplotlibDeprecationWarning: Using a string of single character colors as a color sequence is deprecated since 3.2 and will be removed two minor releases later. Use an explicit list instead.\n",
      "  plt.bar(x=list(range(0,11)) ,height=frequencies[0:11],color='rgbkymc');plt.xticks(list(range(0,11),),items[0:11]);plt.xlabel(\"items\")\n"
     ]
    },
    {
     "data": {
      "text/plain": [
       "Text(0.5, 0, 'Items')"
      ]
     },
     "execution_count": 10,
     "metadata": {},
     "output_type": "execute_result"
    },
    {
     "data": {
      "image/png": "[encoded data removed]",
      "text/plain": [
       "<Figure size 1080x360 with 1 Axes>"
      ]
     },
     "metadata": {
      "needs_background": "light"
     },
     "output_type": "display_data"
    }
   ],
   "source": [
    "# barplot of top 10 \n",
    "\n",
    "import matplotlib.pyplot as plt\n",
    "plt.figure(figsize=(15, 5))\n",
    "plt.bar(x=list(range(0,11)) ,height=frequencies[0:11],color='rgbkymc');plt.xticks(list(range(0,11),),items[0:11]);plt.xlabel(\"items\")\n",
    "plt.ylabel(\"Count\");plt.xlabel(\"Items\")"
   ]
  },
  {
   "cell_type": "code",
   "execution_count": 12,
   "metadata": {
    "ExecuteTime": {
     "end_time": "2020-12-30T05:59:20.394326Z",
     "start_time": "2020-12-30T05:59:20.259097Z"
    }
   },
   "outputs": [],
   "source": [
    "#Creating Data Frame for the transactions data \n",
    "\n",
    "# Purpose of converting all list into Series object Coz to treat each list element as entire element not to separate \n",
    "groceries_series  = pd.DataFrame(pd.Series(groceries_list))\n",
    "groceries_series = groceries_series.iloc[:9835,:] # removing the last empty transaction\n"
   ]
  },
  {
   "cell_type": "code",
   "execution_count": 13,
   "metadata": {
    "ExecuteTime": {
     "end_time": "2020-12-30T05:59:20.948592Z",
     "start_time": "2020-12-30T05:59:20.932958Z"
    }
   },
   "outputs": [],
   "source": [
    "groceries_series.columns = [\"transactions\"]"
   ]
  },
  {
   "cell_type": "code",
   "execution_count": 14,
   "metadata": {
    "ExecuteTime": {
     "end_time": "2020-12-30T05:59:23.908726Z",
     "start_time": "2020-12-30T05:59:21.547590Z"
    }
   },
   "outputs": [],
   "source": [
    "# creating a dummy columns for the each item in each transactions ... Using column names as item name\n",
    "X = groceries_series['transactions'].str.join(sep='*').str.get_dummies(sep='*')"
   ]
  },
  {
   "cell_type": "code",
   "execution_count": 15,
   "metadata": {
    "ExecuteTime": {
     "end_time": "2020-12-30T05:59:24.897398Z",
     "start_time": "2020-12-30T05:59:24.034157Z"
    }
   },
   "outputs": [
    {
     "data": {
      "text/html": [
       "<div>\n",
       "<style scoped>\n",
       "    .dataframe tbody tr th:only-of-type {\n",
       "        vertical-align: middle;\n",
       "    }\n",
       "\n",
       "    .dataframe tbody tr th {\n",
       "        vertical-align: top;\n",
       "    }\n",
       "\n",
       "    .dataframe thead th {\n",
       "        text-align: right;\n",
       "    }\n",
       "</style>\n",
       "<table border=\"1\" class=\"dataframe\">\n",
       "  <thead>\n",
       "    <tr style=\"text-align: right;\">\n",
       "      <th></th>\n",
       "      <th>support</th>\n",
       "      <th>itemsets</th>\n",
       "    </tr>\n",
       "  </thead>\n",
       "  <tbody>\n",
       "    <tr>\n",
       "      <th>0</th>\n",
       "      <td>0.082766</td>\n",
       "      <td>(citrus fruit)</td>\n",
       "    </tr>\n",
       "    <tr>\n",
       "      <th>1</th>\n",
       "      <td>0.058566</td>\n",
       "      <td>(margarine)</td>\n",
       "    </tr>\n",
       "    <tr>\n",
       "      <th>2</th>\n",
       "      <td>0.017692</td>\n",
       "      <td>(semi-finished bread)</td>\n",
       "    </tr>\n",
       "    <tr>\n",
       "      <th>3</th>\n",
       "      <td>0.139502</td>\n",
       "      <td>(yogurt)</td>\n",
       "    </tr>\n",
       "    <tr>\n",
       "      <th>4</th>\n",
       "      <td>0.104931</td>\n",
       "      <td>(tropical fruit)</td>\n",
       "    </tr>\n",
       "    <tr>\n",
       "      <th>...</th>\n",
       "      <td>...</td>\n",
       "      <td>...</td>\n",
       "    </tr>\n",
       "    <tr>\n",
       "      <th>996</th>\n",
       "      <td>0.005491</td>\n",
       "      <td>(meat, soda)</td>\n",
       "    </tr>\n",
       "    <tr>\n",
       "      <th>997</th>\n",
       "      <td>0.005084</td>\n",
       "      <td>(meat, root vegetables)</td>\n",
       "    </tr>\n",
       "    <tr>\n",
       "      <th>998</th>\n",
       "      <td>0.005287</td>\n",
       "      <td>(sausage, meat)</td>\n",
       "    </tr>\n",
       "    <tr>\n",
       "      <th>999</th>\n",
       "      <td>0.005287</td>\n",
       "      <td>(yogurt, meat)</td>\n",
       "    </tr>\n",
       "    <tr>\n",
       "      <th>1000</th>\n",
       "      <td>0.005186</td>\n",
       "      <td>(mustard, whole milk)</td>\n",
       "    </tr>\n",
       "  </tbody>\n",
       "</table>\n",
       "<p>1001 rows × 2 columns</p>\n",
       "</div>"
      ],
      "text/plain": [
       "       support                 itemsets\n",
       "0     0.082766           (citrus fruit)\n",
       "1     0.058566              (margarine)\n",
       "2     0.017692    (semi-finished bread)\n",
       "3     0.139502                 (yogurt)\n",
       "4     0.104931         (tropical fruit)\n",
       "...        ...                      ...\n",
       "996   0.005491             (meat, soda)\n",
       "997   0.005084  (meat, root vegetables)\n",
       "998   0.005287          (sausage, meat)\n",
       "999   0.005287           (yogurt, meat)\n",
       "1000  0.005186    (mustard, whole milk)\n",
       "\n",
       "[1001 rows x 2 columns]"
      ]
     },
     "execution_count": 15,
     "metadata": {},
     "output_type": "execute_result"
    }
   ],
   "source": [
    "from mlxtend.frequent_patterns import apriori, fpmax, fpgrowth\n",
    "frequent_itemsets_a = fpgrowth(X, min_support=0.005, use_colnames=True)\n",
    "frequent_itemsets_a"
   ]
  },
  {
   "cell_type": "markdown",
   "metadata": {
    "ExecuteTime": {
     "end_time": "2020-12-29T15:23:03.230147Z",
     "start_time": "2020-12-29T15:23:02.488169Z"
    }
   },
   "source": [
    "# Similar methods for as seen above\n",
    "#frequent_itemsets = apriori(df, min_support=0.05, use_colnames=True)\n",
    "#frequent_itemsets_b = fpmax(X, min_support=0.005, use_colnames=True)\n"
   ]
  },
  {
   "cell_type": "markdown",
   "metadata": {},
   "source": [
    "#  Generating Association Rules from Frequent Itemsets"
   ]
  },
  {
   "cell_type": "code",
   "execution_count": 16,
   "metadata": {
    "ExecuteTime": {
     "end_time": "2020-12-30T05:59:25.107572Z",
     "start_time": "2020-12-30T05:59:25.032988Z"
    }
   },
   "outputs": [
    {
     "data": {
      "text/html": [
       "<div>\n",
       "<style scoped>\n",
       "    .dataframe tbody tr th:only-of-type {\n",
       "        vertical-align: middle;\n",
       "    }\n",
       "\n",
       "    .dataframe tbody tr th {\n",
       "        vertical-align: top;\n",
       "    }\n",
       "\n",
       "    .dataframe thead th {\n",
       "        text-align: right;\n",
       "    }\n",
       "</style>\n",
       "<table border=\"1\" class=\"dataframe\">\n",
       "  <thead>\n",
       "    <tr style=\"text-align: right;\">\n",
       "      <th></th>\n",
       "      <th>antecedents</th>\n",
       "      <th>consequents</th>\n",
       "      <th>antecedent support</th>\n",
       "      <th>consequent support</th>\n",
       "      <th>support</th>\n",
       "      <th>confidence</th>\n",
       "      <th>lift</th>\n",
       "      <th>leverage</th>\n",
       "      <th>conviction</th>\n",
       "    </tr>\n",
       "  </thead>\n",
       "  <tbody>\n",
       "    <tr>\n",
       "      <th>0</th>\n",
       "      <td>(whole milk)</td>\n",
       "      <td>(citrus fruit)</td>\n",
       "      <td>0.255516</td>\n",
       "      <td>0.082766</td>\n",
       "      <td>0.030503</td>\n",
       "      <td>0.119379</td>\n",
       "      <td>1.442377</td>\n",
       "      <td>0.009355</td>\n",
       "      <td>1.041577</td>\n",
       "    </tr>\n",
       "    <tr>\n",
       "      <th>1</th>\n",
       "      <td>(citrus fruit)</td>\n",
       "      <td>(whole milk)</td>\n",
       "      <td>0.082766</td>\n",
       "      <td>0.255516</td>\n",
       "      <td>0.030503</td>\n",
       "      <td>0.368550</td>\n",
       "      <td>1.442377</td>\n",
       "      <td>0.009355</td>\n",
       "      <td>1.179008</td>\n",
       "    </tr>\n",
       "    <tr>\n",
       "      <th>2</th>\n",
       "      <td>(yogurt)</td>\n",
       "      <td>(citrus fruit)</td>\n",
       "      <td>0.139502</td>\n",
       "      <td>0.082766</td>\n",
       "      <td>0.021657</td>\n",
       "      <td>0.155248</td>\n",
       "      <td>1.875752</td>\n",
       "      <td>0.010111</td>\n",
       "      <td>1.085803</td>\n",
       "    </tr>\n",
       "    <tr>\n",
       "      <th>3</th>\n",
       "      <td>(citrus fruit)</td>\n",
       "      <td>(yogurt)</td>\n",
       "      <td>0.082766</td>\n",
       "      <td>0.139502</td>\n",
       "      <td>0.021657</td>\n",
       "      <td>0.261671</td>\n",
       "      <td>1.875752</td>\n",
       "      <td>0.010111</td>\n",
       "      <td>1.165467</td>\n",
       "    </tr>\n",
       "    <tr>\n",
       "      <th>4</th>\n",
       "      <td>(citrus fruit)</td>\n",
       "      <td>(tropical fruit)</td>\n",
       "      <td>0.082766</td>\n",
       "      <td>0.104931</td>\n",
       "      <td>0.019929</td>\n",
       "      <td>0.240786</td>\n",
       "      <td>2.294702</td>\n",
       "      <td>0.011244</td>\n",
       "      <td>1.178942</td>\n",
       "    </tr>\n",
       "    <tr>\n",
       "      <th>...</th>\n",
       "      <td>...</td>\n",
       "      <td>...</td>\n",
       "      <td>...</td>\n",
       "      <td>...</td>\n",
       "      <td>...</td>\n",
       "      <td>...</td>\n",
       "      <td>...</td>\n",
       "      <td>...</td>\n",
       "      <td>...</td>\n",
       "    </tr>\n",
       "    <tr>\n",
       "      <th>2957</th>\n",
       "      <td>(meat)</td>\n",
       "      <td>(sausage)</td>\n",
       "      <td>0.025826</td>\n",
       "      <td>0.093950</td>\n",
       "      <td>0.005287</td>\n",
       "      <td>0.204724</td>\n",
       "      <td>2.179074</td>\n",
       "      <td>0.002861</td>\n",
       "      <td>1.139290</td>\n",
       "    </tr>\n",
       "    <tr>\n",
       "      <th>2958</th>\n",
       "      <td>(yogurt)</td>\n",
       "      <td>(meat)</td>\n",
       "      <td>0.139502</td>\n",
       "      <td>0.025826</td>\n",
       "      <td>0.005287</td>\n",
       "      <td>0.037901</td>\n",
       "      <td>1.467540</td>\n",
       "      <td>0.001684</td>\n",
       "      <td>1.012550</td>\n",
       "    </tr>\n",
       "    <tr>\n",
       "      <th>2959</th>\n",
       "      <td>(meat)</td>\n",
       "      <td>(yogurt)</td>\n",
       "      <td>0.025826</td>\n",
       "      <td>0.139502</td>\n",
       "      <td>0.005287</td>\n",
       "      <td>0.204724</td>\n",
       "      <td>1.467540</td>\n",
       "      <td>0.001684</td>\n",
       "      <td>1.082013</td>\n",
       "    </tr>\n",
       "    <tr>\n",
       "      <th>2960</th>\n",
       "      <td>(mustard)</td>\n",
       "      <td>(whole milk)</td>\n",
       "      <td>0.011998</td>\n",
       "      <td>0.255516</td>\n",
       "      <td>0.005186</td>\n",
       "      <td>0.432203</td>\n",
       "      <td>1.691492</td>\n",
       "      <td>0.002120</td>\n",
       "      <td>1.311181</td>\n",
       "    </tr>\n",
       "    <tr>\n",
       "      <th>2961</th>\n",
       "      <td>(whole milk)</td>\n",
       "      <td>(mustard)</td>\n",
       "      <td>0.255516</td>\n",
       "      <td>0.011998</td>\n",
       "      <td>0.005186</td>\n",
       "      <td>0.020294</td>\n",
       "      <td>1.691492</td>\n",
       "      <td>0.002120</td>\n",
       "      <td>1.008468</td>\n",
       "    </tr>\n",
       "  </tbody>\n",
       "</table>\n",
       "<p>2962 rows × 9 columns</p>\n",
       "</div>"
      ],
      "text/plain": [
       "         antecedents       consequents  antecedent support  \\\n",
       "0       (whole milk)    (citrus fruit)            0.255516   \n",
       "1     (citrus fruit)      (whole milk)            0.082766   \n",
       "2           (yogurt)    (citrus fruit)            0.139502   \n",
       "3     (citrus fruit)          (yogurt)            0.082766   \n",
       "4     (citrus fruit)  (tropical fruit)            0.082766   \n",
       "...              ...               ...                 ...   \n",
       "2957          (meat)         (sausage)            0.025826   \n",
       "2958        (yogurt)            (meat)            0.139502   \n",
       "2959          (meat)          (yogurt)            0.025826   \n",
       "2960       (mustard)      (whole milk)            0.011998   \n",
       "2961    (whole milk)         (mustard)            0.255516   \n",
       "\n",
       "      consequent support   support  confidence      lift  leverage  conviction  \n",
       "0               0.082766  0.030503    0.119379  1.442377  0.009355    1.041577  \n",
       "1               0.255516  0.030503    0.368550  1.442377  0.009355    1.179008  \n",
       "2               0.082766  0.021657    0.155248  1.875752  0.010111    1.085803  \n",
       "3               0.139502  0.021657    0.261671  1.875752  0.010111    1.165467  \n",
       "4               0.104931  0.019929    0.240786  2.294702  0.011244    1.178942  \n",
       "...                  ...       ...         ...       ...       ...         ...  \n",
       "2957            0.093950  0.005287    0.204724  2.179074  0.002861    1.139290  \n",
       "2958            0.025826  0.005287    0.037901  1.467540  0.001684    1.012550  \n",
       "2959            0.139502  0.005287    0.204724  1.467540  0.001684    1.082013  \n",
       "2960            0.255516  0.005186    0.432203  1.691492  0.002120    1.311181  \n",
       "2961            0.011998  0.005186    0.020294  1.691492  0.002120    1.008468  \n",
       "\n",
       "[2962 rows x 9 columns]"
      ]
     },
     "execution_count": 16,
     "metadata": {},
     "output_type": "execute_result"
    }
   ],
   "source": [
    "from mlxtend.frequent_patterns import association_rules\n",
    "\n",
    "association_rules(frequent_itemsets_a, metric=\"confidence\", min_threshold=0.005)"
   ]
  },
  {
   "cell_type": "markdown",
   "metadata": {},
   "source": [
    "# Rule Generation and Selection Criteria"
   ]
  },
  {
   "cell_type": "code",
   "execution_count": 17,
   "metadata": {
    "ExecuteTime": {
     "end_time": "2020-12-30T05:59:25.371132Z",
     "start_time": "2020-12-30T05:59:25.300942Z"
    }
   },
   "outputs": [
    {
     "data": {
      "text/html": [
       "<div>\n",
       "<style scoped>\n",
       "    .dataframe tbody tr th:only-of-type {\n",
       "        vertical-align: middle;\n",
       "    }\n",
       "\n",
       "    .dataframe tbody tr th {\n",
       "        vertical-align: top;\n",
       "    }\n",
       "\n",
       "    .dataframe thead th {\n",
       "        text-align: right;\n",
       "    }\n",
       "</style>\n",
       "<table border=\"1\" class=\"dataframe\">\n",
       "  <thead>\n",
       "    <tr style=\"text-align: right;\">\n",
       "      <th></th>\n",
       "      <th>antecedents</th>\n",
       "      <th>consequents</th>\n",
       "      <th>antecedent support</th>\n",
       "      <th>consequent support</th>\n",
       "      <th>support</th>\n",
       "      <th>confidence</th>\n",
       "      <th>lift</th>\n",
       "      <th>leverage</th>\n",
       "      <th>conviction</th>\n",
       "    </tr>\n",
       "  </thead>\n",
       "  <tbody>\n",
       "    <tr>\n",
       "      <th>0</th>\n",
       "      <td>(whole milk)</td>\n",
       "      <td>(citrus fruit)</td>\n",
       "      <td>0.255516</td>\n",
       "      <td>0.082766</td>\n",
       "      <td>0.030503</td>\n",
       "      <td>0.119379</td>\n",
       "      <td>1.442377</td>\n",
       "      <td>0.009355</td>\n",
       "      <td>1.041577</td>\n",
       "    </tr>\n",
       "    <tr>\n",
       "      <th>1</th>\n",
       "      <td>(citrus fruit)</td>\n",
       "      <td>(whole milk)</td>\n",
       "      <td>0.082766</td>\n",
       "      <td>0.255516</td>\n",
       "      <td>0.030503</td>\n",
       "      <td>0.368550</td>\n",
       "      <td>1.442377</td>\n",
       "      <td>0.009355</td>\n",
       "      <td>1.179008</td>\n",
       "    </tr>\n",
       "    <tr>\n",
       "      <th>2</th>\n",
       "      <td>(yogurt)</td>\n",
       "      <td>(citrus fruit)</td>\n",
       "      <td>0.139502</td>\n",
       "      <td>0.082766</td>\n",
       "      <td>0.021657</td>\n",
       "      <td>0.155248</td>\n",
       "      <td>1.875752</td>\n",
       "      <td>0.010111</td>\n",
       "      <td>1.085803</td>\n",
       "    </tr>\n",
       "    <tr>\n",
       "      <th>3</th>\n",
       "      <td>(citrus fruit)</td>\n",
       "      <td>(yogurt)</td>\n",
       "      <td>0.082766</td>\n",
       "      <td>0.139502</td>\n",
       "      <td>0.021657</td>\n",
       "      <td>0.261671</td>\n",
       "      <td>1.875752</td>\n",
       "      <td>0.010111</td>\n",
       "      <td>1.165467</td>\n",
       "    </tr>\n",
       "    <tr>\n",
       "      <th>4</th>\n",
       "      <td>(citrus fruit)</td>\n",
       "      <td>(tropical fruit)</td>\n",
       "      <td>0.082766</td>\n",
       "      <td>0.104931</td>\n",
       "      <td>0.019929</td>\n",
       "      <td>0.240786</td>\n",
       "      <td>2.294702</td>\n",
       "      <td>0.011244</td>\n",
       "      <td>1.178942</td>\n",
       "    </tr>\n",
       "    <tr>\n",
       "      <th>...</th>\n",
       "      <td>...</td>\n",
       "      <td>...</td>\n",
       "      <td>...</td>\n",
       "      <td>...</td>\n",
       "      <td>...</td>\n",
       "      <td>...</td>\n",
       "      <td>...</td>\n",
       "      <td>...</td>\n",
       "      <td>...</td>\n",
       "    </tr>\n",
       "    <tr>\n",
       "      <th>2957</th>\n",
       "      <td>(meat)</td>\n",
       "      <td>(sausage)</td>\n",
       "      <td>0.025826</td>\n",
       "      <td>0.093950</td>\n",
       "      <td>0.005287</td>\n",
       "      <td>0.204724</td>\n",
       "      <td>2.179074</td>\n",
       "      <td>0.002861</td>\n",
       "      <td>1.139290</td>\n",
       "    </tr>\n",
       "    <tr>\n",
       "      <th>2958</th>\n",
       "      <td>(yogurt)</td>\n",
       "      <td>(meat)</td>\n",
       "      <td>0.139502</td>\n",
       "      <td>0.025826</td>\n",
       "      <td>0.005287</td>\n",
       "      <td>0.037901</td>\n",
       "      <td>1.467540</td>\n",
       "      <td>0.001684</td>\n",
       "      <td>1.012550</td>\n",
       "    </tr>\n",
       "    <tr>\n",
       "      <th>2959</th>\n",
       "      <td>(meat)</td>\n",
       "      <td>(yogurt)</td>\n",
       "      <td>0.025826</td>\n",
       "      <td>0.139502</td>\n",
       "      <td>0.005287</td>\n",
       "      <td>0.204724</td>\n",
       "      <td>1.467540</td>\n",
       "      <td>0.001684</td>\n",
       "      <td>1.082013</td>\n",
       "    </tr>\n",
       "    <tr>\n",
       "      <th>2960</th>\n",
       "      <td>(mustard)</td>\n",
       "      <td>(whole milk)</td>\n",
       "      <td>0.011998</td>\n",
       "      <td>0.255516</td>\n",
       "      <td>0.005186</td>\n",
       "      <td>0.432203</td>\n",
       "      <td>1.691492</td>\n",
       "      <td>0.002120</td>\n",
       "      <td>1.311181</td>\n",
       "    </tr>\n",
       "    <tr>\n",
       "      <th>2961</th>\n",
       "      <td>(whole milk)</td>\n",
       "      <td>(mustard)</td>\n",
       "      <td>0.255516</td>\n",
       "      <td>0.011998</td>\n",
       "      <td>0.005186</td>\n",
       "      <td>0.020294</td>\n",
       "      <td>1.691492</td>\n",
       "      <td>0.002120</td>\n",
       "      <td>1.008468</td>\n",
       "    </tr>\n",
       "  </tbody>\n",
       "</table>\n",
       "<p>2962 rows × 9 columns</p>\n",
       "</div>"
      ],
      "text/plain": [
       "         antecedents       consequents  antecedent support  \\\n",
       "0       (whole milk)    (citrus fruit)            0.255516   \n",
       "1     (citrus fruit)      (whole milk)            0.082766   \n",
       "2           (yogurt)    (citrus fruit)            0.139502   \n",
       "3     (citrus fruit)          (yogurt)            0.082766   \n",
       "4     (citrus fruit)  (tropical fruit)            0.082766   \n",
       "...              ...               ...                 ...   \n",
       "2957          (meat)         (sausage)            0.025826   \n",
       "2958        (yogurt)            (meat)            0.139502   \n",
       "2959          (meat)          (yogurt)            0.025826   \n",
       "2960       (mustard)      (whole milk)            0.011998   \n",
       "2961    (whole milk)         (mustard)            0.255516   \n",
       "\n",
       "      consequent support   support  confidence      lift  leverage  conviction  \n",
       "0               0.082766  0.030503    0.119379  1.442377  0.009355    1.041577  \n",
       "1               0.255516  0.030503    0.368550  1.442377  0.009355    1.179008  \n",
       "2               0.082766  0.021657    0.155248  1.875752  0.010111    1.085803  \n",
       "3               0.139502  0.021657    0.261671  1.875752  0.010111    1.165467  \n",
       "4               0.104931  0.019929    0.240786  2.294702  0.011244    1.178942  \n",
       "...                  ...       ...         ...       ...       ...         ...  \n",
       "2957            0.093950  0.005287    0.204724  2.179074  0.002861    1.139290  \n",
       "2958            0.025826  0.005287    0.037901  1.467540  0.001684    1.012550  \n",
       "2959            0.139502  0.005287    0.204724  1.467540  0.001684    1.082013  \n",
       "2960            0.255516  0.005186    0.432203  1.691492  0.002120    1.311181  \n",
       "2961            0.011998  0.005186    0.020294  1.691492  0.002120    1.008468  \n",
       "\n",
       "[2962 rows x 9 columns]"
      ]
     },
     "execution_count": 17,
     "metadata": {},
     "output_type": "execute_result"
    }
   ],
   "source": [
    "rules = association_rules(frequent_itemsets_a, metric=\"lift\", min_threshold=0.4)\n",
    "rules"
   ]
  },
  {
   "cell_type": "code",
   "execution_count": 18,
   "metadata": {
    "ExecuteTime": {
     "end_time": "2020-12-30T05:59:25.553617Z",
     "start_time": "2020-12-30T05:59:25.545596Z"
    }
   },
   "outputs": [
    {
     "data": {
      "text/plain": [
       "(2962, 9)"
      ]
     },
     "execution_count": 18,
     "metadata": {},
     "output_type": "execute_result"
    }
   ],
   "source": [
    "rules.shape"
   ]
  },
  {
   "cell_type": "code",
   "execution_count": 19,
   "metadata": {
    "ExecuteTime": {
     "end_time": "2020-12-30T05:59:26.030180Z",
     "start_time": "2020-12-30T05:59:25.976033Z"
    }
   },
   "outputs": [
    {
     "data": {
      "text/html": [
       "<div>\n",
       "<style scoped>\n",
       "    .dataframe tbody tr th:only-of-type {\n",
       "        vertical-align: middle;\n",
       "    }\n",
       "\n",
       "    .dataframe tbody tr th {\n",
       "        vertical-align: top;\n",
       "    }\n",
       "\n",
       "    .dataframe thead th {\n",
       "        text-align: right;\n",
       "    }\n",
       "</style>\n",
       "<table border=\"1\" class=\"dataframe\">\n",
       "  <thead>\n",
       "    <tr style=\"text-align: right;\">\n",
       "      <th></th>\n",
       "      <th>antecedents</th>\n",
       "      <th>consequents</th>\n",
       "      <th>antecedent support</th>\n",
       "      <th>consequent support</th>\n",
       "      <th>support</th>\n",
       "      <th>confidence</th>\n",
       "      <th>lift</th>\n",
       "      <th>leverage</th>\n",
       "      <th>conviction</th>\n",
       "      <th>antecedent_len</th>\n",
       "    </tr>\n",
       "  </thead>\n",
       "  <tbody>\n",
       "    <tr>\n",
       "      <th>0</th>\n",
       "      <td>(whole milk)</td>\n",
       "      <td>(citrus fruit)</td>\n",
       "      <td>0.255516</td>\n",
       "      <td>0.082766</td>\n",
       "      <td>0.030503</td>\n",
       "      <td>0.119379</td>\n",
       "      <td>1.442377</td>\n",
       "      <td>0.009355</td>\n",
       "      <td>1.041577</td>\n",
       "      <td>9835</td>\n",
       "    </tr>\n",
       "    <tr>\n",
       "      <th>1</th>\n",
       "      <td>(citrus fruit)</td>\n",
       "      <td>(whole milk)</td>\n",
       "      <td>0.082766</td>\n",
       "      <td>0.255516</td>\n",
       "      <td>0.030503</td>\n",
       "      <td>0.368550</td>\n",
       "      <td>1.442377</td>\n",
       "      <td>0.009355</td>\n",
       "      <td>1.179008</td>\n",
       "      <td>9835</td>\n",
       "    </tr>\n",
       "    <tr>\n",
       "      <th>2</th>\n",
       "      <td>(yogurt)</td>\n",
       "      <td>(citrus fruit)</td>\n",
       "      <td>0.139502</td>\n",
       "      <td>0.082766</td>\n",
       "      <td>0.021657</td>\n",
       "      <td>0.155248</td>\n",
       "      <td>1.875752</td>\n",
       "      <td>0.010111</td>\n",
       "      <td>1.085803</td>\n",
       "      <td>9835</td>\n",
       "    </tr>\n",
       "    <tr>\n",
       "      <th>3</th>\n",
       "      <td>(citrus fruit)</td>\n",
       "      <td>(yogurt)</td>\n",
       "      <td>0.082766</td>\n",
       "      <td>0.139502</td>\n",
       "      <td>0.021657</td>\n",
       "      <td>0.261671</td>\n",
       "      <td>1.875752</td>\n",
       "      <td>0.010111</td>\n",
       "      <td>1.165467</td>\n",
       "      <td>9835</td>\n",
       "    </tr>\n",
       "    <tr>\n",
       "      <th>4</th>\n",
       "      <td>(citrus fruit)</td>\n",
       "      <td>(tropical fruit)</td>\n",
       "      <td>0.082766</td>\n",
       "      <td>0.104931</td>\n",
       "      <td>0.019929</td>\n",
       "      <td>0.240786</td>\n",
       "      <td>2.294702</td>\n",
       "      <td>0.011244</td>\n",
       "      <td>1.178942</td>\n",
       "      <td>9835</td>\n",
       "    </tr>\n",
       "    <tr>\n",
       "      <th>...</th>\n",
       "      <td>...</td>\n",
       "      <td>...</td>\n",
       "      <td>...</td>\n",
       "      <td>...</td>\n",
       "      <td>...</td>\n",
       "      <td>...</td>\n",
       "      <td>...</td>\n",
       "      <td>...</td>\n",
       "      <td>...</td>\n",
       "      <td>...</td>\n",
       "    </tr>\n",
       "    <tr>\n",
       "      <th>2957</th>\n",
       "      <td>(meat)</td>\n",
       "      <td>(sausage)</td>\n",
       "      <td>0.025826</td>\n",
       "      <td>0.093950</td>\n",
       "      <td>0.005287</td>\n",
       "      <td>0.204724</td>\n",
       "      <td>2.179074</td>\n",
       "      <td>0.002861</td>\n",
       "      <td>1.139290</td>\n",
       "      <td>9835</td>\n",
       "    </tr>\n",
       "    <tr>\n",
       "      <th>2958</th>\n",
       "      <td>(yogurt)</td>\n",
       "      <td>(meat)</td>\n",
       "      <td>0.139502</td>\n",
       "      <td>0.025826</td>\n",
       "      <td>0.005287</td>\n",
       "      <td>0.037901</td>\n",
       "      <td>1.467540</td>\n",
       "      <td>0.001684</td>\n",
       "      <td>1.012550</td>\n",
       "      <td>9835</td>\n",
       "    </tr>\n",
       "    <tr>\n",
       "      <th>2959</th>\n",
       "      <td>(meat)</td>\n",
       "      <td>(yogurt)</td>\n",
       "      <td>0.025826</td>\n",
       "      <td>0.139502</td>\n",
       "      <td>0.005287</td>\n",
       "      <td>0.204724</td>\n",
       "      <td>1.467540</td>\n",
       "      <td>0.001684</td>\n",
       "      <td>1.082013</td>\n",
       "      <td>9835</td>\n",
       "    </tr>\n",
       "    <tr>\n",
       "      <th>2960</th>\n",
       "      <td>(mustard)</td>\n",
       "      <td>(whole milk)</td>\n",
       "      <td>0.011998</td>\n",
       "      <td>0.255516</td>\n",
       "      <td>0.005186</td>\n",
       "      <td>0.432203</td>\n",
       "      <td>1.691492</td>\n",
       "      <td>0.002120</td>\n",
       "      <td>1.311181</td>\n",
       "      <td>9835</td>\n",
       "    </tr>\n",
       "    <tr>\n",
       "      <th>2961</th>\n",
       "      <td>(whole milk)</td>\n",
       "      <td>(mustard)</td>\n",
       "      <td>0.255516</td>\n",
       "      <td>0.011998</td>\n",
       "      <td>0.005186</td>\n",
       "      <td>0.020294</td>\n",
       "      <td>1.691492</td>\n",
       "      <td>0.002120</td>\n",
       "      <td>1.008468</td>\n",
       "      <td>9835</td>\n",
       "    </tr>\n",
       "  </tbody>\n",
       "</table>\n",
       "<p>2962 rows × 10 columns</p>\n",
       "</div>"
      ],
      "text/plain": [
       "         antecedents       consequents  antecedent support  \\\n",
       "0       (whole milk)    (citrus fruit)            0.255516   \n",
       "1     (citrus fruit)      (whole milk)            0.082766   \n",
       "2           (yogurt)    (citrus fruit)            0.139502   \n",
       "3     (citrus fruit)          (yogurt)            0.082766   \n",
       "4     (citrus fruit)  (tropical fruit)            0.082766   \n",
       "...              ...               ...                 ...   \n",
       "2957          (meat)         (sausage)            0.025826   \n",
       "2958        (yogurt)            (meat)            0.139502   \n",
       "2959          (meat)          (yogurt)            0.025826   \n",
       "2960       (mustard)      (whole milk)            0.011998   \n",
       "2961    (whole milk)         (mustard)            0.255516   \n",
       "\n",
       "      consequent support   support  confidence      lift  leverage  \\\n",
       "0               0.082766  0.030503    0.119379  1.442377  0.009355   \n",
       "1               0.255516  0.030503    0.368550  1.442377  0.009355   \n",
       "2               0.082766  0.021657    0.155248  1.875752  0.010111   \n",
       "3               0.139502  0.021657    0.261671  1.875752  0.010111   \n",
       "4               0.104931  0.019929    0.240786  2.294702  0.011244   \n",
       "...                  ...       ...         ...       ...       ...   \n",
       "2957            0.093950  0.005287    0.204724  2.179074  0.002861   \n",
       "2958            0.025826  0.005287    0.037901  1.467540  0.001684   \n",
       "2959            0.139502  0.005287    0.204724  1.467540  0.001684   \n",
       "2960            0.255516  0.005186    0.432203  1.691492  0.002120   \n",
       "2961            0.011998  0.005186    0.020294  1.691492  0.002120   \n",
       "\n",
       "      conviction  antecedent_len  \n",
       "0       1.041577            9835  \n",
       "1       1.179008            9835  \n",
       "2       1.085803            9835  \n",
       "3       1.165467            9835  \n",
       "4       1.178942            9835  \n",
       "...          ...             ...  \n",
       "2957    1.139290            9835  \n",
       "2958    1.012550            9835  \n",
       "2959    1.082013            9835  \n",
       "2960    1.311181            9835  \n",
       "2961    1.008468            9835  \n",
       "\n",
       "[2962 rows x 10 columns]"
      ]
     },
     "execution_count": 19,
     "metadata": {},
     "output_type": "execute_result"
    }
   ],
   "source": [
    "rules[\"antecedent_len\"] = rules[\"antecedents\"].apply(lambda x: len(X))\n",
    "rules"
   ]
  },
  {
   "cell_type": "code",
   "execution_count": 20,
   "metadata": {
    "ExecuteTime": {
     "end_time": "2020-12-30T05:59:26.619333Z",
     "start_time": "2020-12-30T05:59:26.528336Z"
    }
   },
   "outputs": [
    {
     "data": {
      "text/html": [
       "<div>\n",
       "<style scoped>\n",
       "    .dataframe tbody tr th:only-of-type {\n",
       "        vertical-align: middle;\n",
       "    }\n",
       "\n",
       "    .dataframe tbody tr th {\n",
       "        vertical-align: top;\n",
       "    }\n",
       "\n",
       "    .dataframe thead th {\n",
       "        text-align: right;\n",
       "    }\n",
       "</style>\n",
       "<table border=\"1\" class=\"dataframe\">\n",
       "  <thead>\n",
       "    <tr style=\"text-align: right;\">\n",
       "      <th></th>\n",
       "      <th>antecedents</th>\n",
       "      <th>consequents</th>\n",
       "      <th>antecedent support</th>\n",
       "      <th>consequent support</th>\n",
       "      <th>support</th>\n",
       "      <th>confidence</th>\n",
       "      <th>lift</th>\n",
       "      <th>leverage</th>\n",
       "      <th>conviction</th>\n",
       "      <th>antecedent_len</th>\n",
       "    </tr>\n",
       "  </thead>\n",
       "  <tbody>\n",
       "    <tr>\n",
       "      <th>46</th>\n",
       "      <td>(citrus fruit, tropical fruit)</td>\n",
       "      <td>(other vegetables)</td>\n",
       "      <td>0.019929</td>\n",
       "      <td>0.193493</td>\n",
       "      <td>0.009049</td>\n",
       "      <td>0.454082</td>\n",
       "      <td>2.346765</td>\n",
       "      <td>0.005193</td>\n",
       "      <td>1.477341</td>\n",
       "      <td>9835</td>\n",
       "    </tr>\n",
       "    <tr>\n",
       "      <th>70</th>\n",
       "      <td>(root vegetables, citrus fruit)</td>\n",
       "      <td>(other vegetables)</td>\n",
       "      <td>0.017692</td>\n",
       "      <td>0.193493</td>\n",
       "      <td>0.010371</td>\n",
       "      <td>0.586207</td>\n",
       "      <td>3.029608</td>\n",
       "      <td>0.006948</td>\n",
       "      <td>1.949059</td>\n",
       "      <td>9835</td>\n",
       "    </tr>\n",
       "    <tr>\n",
       "      <th>88</th>\n",
       "      <td>(root vegetables, whole milk, citrus fruit)</td>\n",
       "      <td>(other vegetables)</td>\n",
       "      <td>0.009151</td>\n",
       "      <td>0.193493</td>\n",
       "      <td>0.005796</td>\n",
       "      <td>0.633333</td>\n",
       "      <td>3.273165</td>\n",
       "      <td>0.004025</td>\n",
       "      <td>2.199566</td>\n",
       "      <td>9835</td>\n",
       "    </tr>\n",
       "    <tr>\n",
       "      <th>91</th>\n",
       "      <td>(whole milk, citrus fruit, other vegetables)</td>\n",
       "      <td>(root vegetables)</td>\n",
       "      <td>0.013015</td>\n",
       "      <td>0.108998</td>\n",
       "      <td>0.005796</td>\n",
       "      <td>0.445312</td>\n",
       "      <td>4.085493</td>\n",
       "      <td>0.004377</td>\n",
       "      <td>1.606313</td>\n",
       "      <td>9835</td>\n",
       "    </tr>\n",
       "    <tr>\n",
       "      <th>167</th>\n",
       "      <td>(domestic eggs, margarine)</td>\n",
       "      <td>(whole milk)</td>\n",
       "      <td>0.008338</td>\n",
       "      <td>0.255516</td>\n",
       "      <td>0.005186</td>\n",
       "      <td>0.621951</td>\n",
       "      <td>2.434099</td>\n",
       "      <td>0.003055</td>\n",
       "      <td>1.969280</td>\n",
       "      <td>9835</td>\n",
       "    </tr>\n",
       "    <tr>\n",
       "      <th>...</th>\n",
       "      <td>...</td>\n",
       "      <td>...</td>\n",
       "      <td>...</td>\n",
       "      <td>...</td>\n",
       "      <td>...</td>\n",
       "      <td>...</td>\n",
       "      <td>...</td>\n",
       "      <td>...</td>\n",
       "      <td>...</td>\n",
       "      <td>...</td>\n",
       "    </tr>\n",
       "    <tr>\n",
       "      <th>2894</th>\n",
       "      <td>(onions)</td>\n",
       "      <td>(other vegetables)</td>\n",
       "      <td>0.031012</td>\n",
       "      <td>0.193493</td>\n",
       "      <td>0.014235</td>\n",
       "      <td>0.459016</td>\n",
       "      <td>2.372268</td>\n",
       "      <td>0.008234</td>\n",
       "      <td>1.490817</td>\n",
       "      <td>9835</td>\n",
       "    </tr>\n",
       "    <tr>\n",
       "      <th>2900</th>\n",
       "      <td>(onions, root vegetables)</td>\n",
       "      <td>(other vegetables)</td>\n",
       "      <td>0.009456</td>\n",
       "      <td>0.193493</td>\n",
       "      <td>0.005694</td>\n",
       "      <td>0.602151</td>\n",
       "      <td>3.112008</td>\n",
       "      <td>0.003864</td>\n",
       "      <td>2.027167</td>\n",
       "      <td>9835</td>\n",
       "    </tr>\n",
       "    <tr>\n",
       "      <th>2906</th>\n",
       "      <td>(onions, whole milk)</td>\n",
       "      <td>(other vegetables)</td>\n",
       "      <td>0.012100</td>\n",
       "      <td>0.193493</td>\n",
       "      <td>0.006609</td>\n",
       "      <td>0.546218</td>\n",
       "      <td>2.822942</td>\n",
       "      <td>0.004268</td>\n",
       "      <td>1.777303</td>\n",
       "      <td>9835</td>\n",
       "    </tr>\n",
       "    <tr>\n",
       "      <th>2912</th>\n",
       "      <td>(herbs)</td>\n",
       "      <td>(other vegetables)</td>\n",
       "      <td>0.016268</td>\n",
       "      <td>0.193493</td>\n",
       "      <td>0.007728</td>\n",
       "      <td>0.475000</td>\n",
       "      <td>2.454874</td>\n",
       "      <td>0.004580</td>\n",
       "      <td>1.536205</td>\n",
       "      <td>9835</td>\n",
       "    </tr>\n",
       "    <tr>\n",
       "      <th>2916</th>\n",
       "      <td>(herbs)</td>\n",
       "      <td>(root vegetables)</td>\n",
       "      <td>0.016268</td>\n",
       "      <td>0.108998</td>\n",
       "      <td>0.007016</td>\n",
       "      <td>0.431250</td>\n",
       "      <td>3.956477</td>\n",
       "      <td>0.005243</td>\n",
       "      <td>1.566596</td>\n",
       "      <td>9835</td>\n",
       "    </tr>\n",
       "  </tbody>\n",
       "</table>\n",
       "<p>102 rows × 10 columns</p>\n",
       "</div>"
      ],
      "text/plain": [
       "                                       antecedents         consequents  \\\n",
       "46                  (citrus fruit, tropical fruit)  (other vegetables)   \n",
       "70                 (root vegetables, citrus fruit)  (other vegetables)   \n",
       "88     (root vegetables, whole milk, citrus fruit)  (other vegetables)   \n",
       "91    (whole milk, citrus fruit, other vegetables)   (root vegetables)   \n",
       "167                     (domestic eggs, margarine)        (whole milk)   \n",
       "...                                            ...                 ...   \n",
       "2894                                      (onions)  (other vegetables)   \n",
       "2900                     (onions, root vegetables)  (other vegetables)   \n",
       "2906                          (onions, whole milk)  (other vegetables)   \n",
       "2912                                       (herbs)  (other vegetables)   \n",
       "2916                                       (herbs)   (root vegetables)   \n",
       "\n",
       "      antecedent support  consequent support   support  confidence      lift  \\\n",
       "46              0.019929            0.193493  0.009049    0.454082  2.346765   \n",
       "70              0.017692            0.193493  0.010371    0.586207  3.029608   \n",
       "88              0.009151            0.193493  0.005796    0.633333  3.273165   \n",
       "91              0.013015            0.108998  0.005796    0.445312  4.085493   \n",
       "167             0.008338            0.255516  0.005186    0.621951  2.434099   \n",
       "...                  ...                 ...       ...         ...       ...   \n",
       "2894            0.031012            0.193493  0.014235    0.459016  2.372268   \n",
       "2900            0.009456            0.193493  0.005694    0.602151  3.112008   \n",
       "2906            0.012100            0.193493  0.006609    0.546218  2.822942   \n",
       "2912            0.016268            0.193493  0.007728    0.475000  2.454874   \n",
       "2916            0.016268            0.108998  0.007016    0.431250  3.956477   \n",
       "\n",
       "      leverage  conviction  antecedent_len  \n",
       "46    0.005193    1.477341            9835  \n",
       "70    0.006948    1.949059            9835  \n",
       "88    0.004025    2.199566            9835  \n",
       "91    0.004377    1.606313            9835  \n",
       "167   0.003055    1.969280            9835  \n",
       "...        ...         ...             ...  \n",
       "2894  0.008234    1.490817            9835  \n",
       "2900  0.003864    2.027167            9835  \n",
       "2906  0.004268    1.777303            9835  \n",
       "2912  0.004580    1.536205            9835  \n",
       "2916  0.005243    1.566596            9835  \n",
       "\n",
       "[102 rows x 10 columns]"
      ]
     },
     "execution_count": 20,
     "metadata": {},
     "output_type": "execute_result"
    }
   ],
   "source": [
    "rules[ (rules['antecedent_len'] >= 9835) &\n",
    "       (rules['confidence'] > 0.43) &\n",
    "       (rules['lift'] > 2.2) ]"
   ]
  },
  {
   "cell_type": "code",
   "execution_count": 21,
   "metadata": {
    "ExecuteTime": {
     "end_time": "2020-12-30T05:59:27.305842Z",
     "start_time": "2020-12-30T05:59:27.102467Z"
    }
   },
   "outputs": [
    {
     "data": {
      "text/html": [
       "<div>\n",
       "<style scoped>\n",
       "    .dataframe tbody tr th:only-of-type {\n",
       "        vertical-align: middle;\n",
       "    }\n",
       "\n",
       "    .dataframe tbody tr th {\n",
       "        vertical-align: top;\n",
       "    }\n",
       "\n",
       "    .dataframe thead th {\n",
       "        text-align: right;\n",
       "    }\n",
       "</style>\n",
       "<table border=\"1\" class=\"dataframe\">\n",
       "  <thead>\n",
       "    <tr style=\"text-align: right;\">\n",
       "      <th></th>\n",
       "      <th>antecedents</th>\n",
       "      <th>consequents</th>\n",
       "      <th>antecedent support</th>\n",
       "      <th>consequent support</th>\n",
       "      <th>support</th>\n",
       "      <th>confidence</th>\n",
       "      <th>lift</th>\n",
       "      <th>leverage</th>\n",
       "      <th>conviction</th>\n",
       "      <th>antecedent_len</th>\n",
       "    </tr>\n",
       "  </thead>\n",
       "  <tbody>\n",
       "    <tr>\n",
       "      <th>36</th>\n",
       "      <td>(citrus fruit, tropical fruit)</td>\n",
       "      <td>(whole milk)</td>\n",
       "      <td>0.019929</td>\n",
       "      <td>0.255516</td>\n",
       "      <td>0.009049</td>\n",
       "      <td>0.454082</td>\n",
       "      <td>1.777116</td>\n",
       "      <td>0.003957</td>\n",
       "      <td>1.363728</td>\n",
       "      <td>9835</td>\n",
       "    </tr>\n",
       "    <tr>\n",
       "      <th>42</th>\n",
       "      <td>(citrus fruit, tropical fruit)</td>\n",
       "      <td>(yogurt)</td>\n",
       "      <td>0.019929</td>\n",
       "      <td>0.139502</td>\n",
       "      <td>0.006304</td>\n",
       "      <td>0.316327</td>\n",
       "      <td>2.267545</td>\n",
       "      <td>0.003524</td>\n",
       "      <td>1.258639</td>\n",
       "      <td>9835</td>\n",
       "    </tr>\n",
       "    <tr>\n",
       "      <th>46</th>\n",
       "      <td>(citrus fruit, tropical fruit)</td>\n",
       "      <td>(other vegetables)</td>\n",
       "      <td>0.019929</td>\n",
       "      <td>0.193493</td>\n",
       "      <td>0.009049</td>\n",
       "      <td>0.454082</td>\n",
       "      <td>2.346765</td>\n",
       "      <td>0.005193</td>\n",
       "      <td>1.477341</td>\n",
       "      <td>9835</td>\n",
       "    </tr>\n",
       "    <tr>\n",
       "      <th>78</th>\n",
       "      <td>(citrus fruit, tropical fruit)</td>\n",
       "      <td>(root vegetables)</td>\n",
       "      <td>0.019929</td>\n",
       "      <td>0.108998</td>\n",
       "      <td>0.005694</td>\n",
       "      <td>0.285714</td>\n",
       "      <td>2.621269</td>\n",
       "      <td>0.003522</td>\n",
       "      <td>1.247402</td>\n",
       "      <td>9835</td>\n",
       "    </tr>\n",
       "    <tr>\n",
       "      <th>564</th>\n",
       "      <td>(citrus fruit, tropical fruit)</td>\n",
       "      <td>(pip fruit)</td>\n",
       "      <td>0.019929</td>\n",
       "      <td>0.075648</td>\n",
       "      <td>0.005592</td>\n",
       "      <td>0.280612</td>\n",
       "      <td>3.709437</td>\n",
       "      <td>0.004085</td>\n",
       "      <td>1.284915</td>\n",
       "      <td>9835</td>\n",
       "    </tr>\n",
       "  </tbody>\n",
       "</table>\n",
       "</div>"
      ],
      "text/plain": [
       "                        antecedents         consequents  antecedent support  \\\n",
       "36   (citrus fruit, tropical fruit)        (whole milk)            0.019929   \n",
       "42   (citrus fruit, tropical fruit)            (yogurt)            0.019929   \n",
       "46   (citrus fruit, tropical fruit)  (other vegetables)            0.019929   \n",
       "78   (citrus fruit, tropical fruit)   (root vegetables)            0.019929   \n",
       "564  (citrus fruit, tropical fruit)         (pip fruit)            0.019929   \n",
       "\n",
       "     consequent support   support  confidence      lift  leverage  conviction  \\\n",
       "36             0.255516  0.009049    0.454082  1.777116  0.003957    1.363728   \n",
       "42             0.139502  0.006304    0.316327  2.267545  0.003524    1.258639   \n",
       "46             0.193493  0.009049    0.454082  2.346765  0.005193    1.477341   \n",
       "78             0.108998  0.005694    0.285714  2.621269  0.003522    1.247402   \n",
       "564            0.075648  0.005592    0.280612  3.709437  0.004085    1.284915   \n",
       "\n",
       "     antecedent_len  \n",
       "36             9835  \n",
       "42             9835  \n",
       "46             9835  \n",
       "78             9835  \n",
       "564            9835  "
      ]
     },
     "execution_count": 21,
     "metadata": {},
     "output_type": "execute_result"
    }
   ],
   "source": [
    "#we can select entries based on the \"antecedents\" or \"consequents\" columns:\n",
    "rules[rules['antecedents']=={'citrus fruit','tropical fruit'}]\n"
   ]
  },
  {
   "cell_type": "code",
   "execution_count": 22,
   "metadata": {
    "ExecuteTime": {
     "end_time": "2020-12-30T05:59:27.751741Z",
     "start_time": "2020-12-30T05:59:27.727175Z"
    }
   },
   "outputs": [
    {
     "data": {
      "text/html": [
       "<div>\n",
       "<style scoped>\n",
       "    .dataframe tbody tr th:only-of-type {\n",
       "        vertical-align: middle;\n",
       "    }\n",
       "\n",
       "    .dataframe tbody tr th {\n",
       "        vertical-align: top;\n",
       "    }\n",
       "\n",
       "    .dataframe thead th {\n",
       "        text-align: right;\n",
       "    }\n",
       "</style>\n",
       "<table border=\"1\" class=\"dataframe\">\n",
       "  <thead>\n",
       "    <tr style=\"text-align: right;\">\n",
       "      <th></th>\n",
       "      <th>antecedents</th>\n",
       "      <th>consequents</th>\n",
       "      <th>antecedent support</th>\n",
       "      <th>consequent support</th>\n",
       "      <th>support</th>\n",
       "      <th>confidence</th>\n",
       "      <th>lift</th>\n",
       "      <th>leverage</th>\n",
       "      <th>conviction</th>\n",
       "      <th>antecedent_len</th>\n",
       "    </tr>\n",
       "  </thead>\n",
       "  <tbody>\n",
       "    <tr>\n",
       "      <th>70</th>\n",
       "      <td>(root vegetables, citrus fruit)</td>\n",
       "      <td>(other vegetables)</td>\n",
       "      <td>0.017692</td>\n",
       "      <td>0.193493</td>\n",
       "      <td>0.010371</td>\n",
       "      <td>0.586207</td>\n",
       "      <td>3.029608</td>\n",
       "      <td>0.006948</td>\n",
       "      <td>1.949059</td>\n",
       "      <td>9835</td>\n",
       "    </tr>\n",
       "    <tr>\n",
       "      <th>76</th>\n",
       "      <td>(root vegetables, citrus fruit)</td>\n",
       "      <td>(tropical fruit)</td>\n",
       "      <td>0.017692</td>\n",
       "      <td>0.104931</td>\n",
       "      <td>0.005694</td>\n",
       "      <td>0.321839</td>\n",
       "      <td>3.067139</td>\n",
       "      <td>0.003838</td>\n",
       "      <td>1.319847</td>\n",
       "      <td>9835</td>\n",
       "    </tr>\n",
       "    <tr>\n",
       "      <th>83</th>\n",
       "      <td>(root vegetables, citrus fruit)</td>\n",
       "      <td>(whole milk)</td>\n",
       "      <td>0.017692</td>\n",
       "      <td>0.255516</td>\n",
       "      <td>0.009151</td>\n",
       "      <td>0.517241</td>\n",
       "      <td>2.024301</td>\n",
       "      <td>0.004630</td>\n",
       "      <td>1.542145</td>\n",
       "      <td>9835</td>\n",
       "    </tr>\n",
       "    <tr>\n",
       "      <th>93</th>\n",
       "      <td>(root vegetables, citrus fruit)</td>\n",
       "      <td>(whole milk, other vegetables)</td>\n",
       "      <td>0.017692</td>\n",
       "      <td>0.074835</td>\n",
       "      <td>0.005796</td>\n",
       "      <td>0.327586</td>\n",
       "      <td>4.377460</td>\n",
       "      <td>0.004472</td>\n",
       "      <td>1.375887</td>\n",
       "      <td>9835</td>\n",
       "    </tr>\n",
       "  </tbody>\n",
       "</table>\n",
       "</div>"
      ],
      "text/plain": [
       "                        antecedents                     consequents  \\\n",
       "70  (root vegetables, citrus fruit)              (other vegetables)   \n",
       "76  (root vegetables, citrus fruit)                (tropical fruit)   \n",
       "83  (root vegetables, citrus fruit)                    (whole milk)   \n",
       "93  (root vegetables, citrus fruit)  (whole milk, other vegetables)   \n",
       "\n",
       "    antecedent support  consequent support   support  confidence      lift  \\\n",
       "70            0.017692            0.193493  0.010371    0.586207  3.029608   \n",
       "76            0.017692            0.104931  0.005694    0.321839  3.067139   \n",
       "83            0.017692            0.255516  0.009151    0.517241  2.024301   \n",
       "93            0.017692            0.074835  0.005796    0.327586  4.377460   \n",
       "\n",
       "    leverage  conviction  antecedent_len  \n",
       "70  0.006948    1.949059            9835  \n",
       "76  0.003838    1.319847            9835  \n",
       "83  0.004630    1.542145            9835  \n",
       "93  0.004472    1.375887            9835  "
      ]
     },
     "execution_count": 22,
     "metadata": {},
     "output_type": "execute_result"
    }
   ],
   "source": [
    "rules[rules['antecedents']=={'root vegetables','citrus fruit'}]"
   ]
  },
  {
   "cell_type": "code",
   "execution_count": 23,
   "metadata": {
    "ExecuteTime": {
     "end_time": "2020-12-30T05:59:28.702582Z",
     "start_time": "2020-12-30T05:59:28.681870Z"
    }
   },
   "outputs": [
    {
     "data": {
      "text/html": [
       "<div>\n",
       "<style scoped>\n",
       "    .dataframe tbody tr th:only-of-type {\n",
       "        vertical-align: middle;\n",
       "    }\n",
       "\n",
       "    .dataframe tbody tr th {\n",
       "        vertical-align: top;\n",
       "    }\n",
       "\n",
       "    .dataframe thead th {\n",
       "        text-align: right;\n",
       "    }\n",
       "</style>\n",
       "<table border=\"1\" class=\"dataframe\">\n",
       "  <thead>\n",
       "    <tr style=\"text-align: right;\">\n",
       "      <th></th>\n",
       "      <th>antecedents</th>\n",
       "      <th>consequents</th>\n",
       "      <th>antecedent support</th>\n",
       "      <th>consequent support</th>\n",
       "      <th>support</th>\n",
       "      <th>confidence</th>\n",
       "      <th>lift</th>\n",
       "      <th>leverage</th>\n",
       "      <th>conviction</th>\n",
       "      <th>antecedent_len</th>\n",
       "    </tr>\n",
       "  </thead>\n",
       "  <tbody>\n",
       "    <tr>\n",
       "      <th>88</th>\n",
       "      <td>(root vegetables, whole milk, citrus fruit)</td>\n",
       "      <td>(other vegetables)</td>\n",
       "      <td>0.009151</td>\n",
       "      <td>0.193493</td>\n",
       "      <td>0.005796</td>\n",
       "      <td>0.633333</td>\n",
       "      <td>3.273165</td>\n",
       "      <td>0.004025</td>\n",
       "      <td>2.199566</td>\n",
       "      <td>9835</td>\n",
       "    </tr>\n",
       "  </tbody>\n",
       "</table>\n",
       "</div>"
      ],
      "text/plain": [
       "                                    antecedents         consequents  \\\n",
       "88  (root vegetables, whole milk, citrus fruit)  (other vegetables)   \n",
       "\n",
       "    antecedent support  consequent support   support  confidence      lift  \\\n",
       "88            0.009151            0.193493  0.005796    0.633333  3.273165   \n",
       "\n",
       "    leverage  conviction  antecedent_len  \n",
       "88  0.004025    2.199566            9835  "
      ]
     },
     "execution_count": 23,
     "metadata": {},
     "output_type": "execute_result"
    }
   ],
   "source": [
    "rules[rules['antecedents']=={'root vegetables', 'citrus fruit', 'whole milk'}]"
   ]
  },
  {
   "cell_type": "code",
   "execution_count": 24,
   "metadata": {
    "ExecuteTime": {
     "end_time": "2020-12-30T05:59:29.240845Z",
     "start_time": "2020-12-30T05:59:29.214205Z"
    }
   },
   "outputs": [
    {
     "data": {
      "text/html": [
       "<div>\n",
       "<style scoped>\n",
       "    .dataframe tbody tr th:only-of-type {\n",
       "        vertical-align: middle;\n",
       "    }\n",
       "\n",
       "    .dataframe tbody tr th {\n",
       "        vertical-align: top;\n",
       "    }\n",
       "\n",
       "    .dataframe thead th {\n",
       "        text-align: right;\n",
       "    }\n",
       "</style>\n",
       "<table border=\"1\" class=\"dataframe\">\n",
       "  <thead>\n",
       "    <tr style=\"text-align: right;\">\n",
       "      <th></th>\n",
       "      <th>antecedents</th>\n",
       "      <th>consequents</th>\n",
       "      <th>antecedent support</th>\n",
       "      <th>consequent support</th>\n",
       "      <th>support</th>\n",
       "      <th>confidence</th>\n",
       "      <th>lift</th>\n",
       "      <th>leverage</th>\n",
       "      <th>conviction</th>\n",
       "      <th>antecedent_len</th>\n",
       "    </tr>\n",
       "  </thead>\n",
       "  <tbody>\n",
       "    <tr>\n",
       "      <th>91</th>\n",
       "      <td>(whole milk, citrus fruit, other vegetables)</td>\n",
       "      <td>(root vegetables)</td>\n",
       "      <td>0.013015</td>\n",
       "      <td>0.108998</td>\n",
       "      <td>0.005796</td>\n",
       "      <td>0.445312</td>\n",
       "      <td>4.085493</td>\n",
       "      <td>0.004377</td>\n",
       "      <td>1.606313</td>\n",
       "      <td>9835</td>\n",
       "    </tr>\n",
       "  </tbody>\n",
       "</table>\n",
       "</div>"
      ],
      "text/plain": [
       "                                     antecedents        consequents  \\\n",
       "91  (whole milk, citrus fruit, other vegetables)  (root vegetables)   \n",
       "\n",
       "    antecedent support  consequent support   support  confidence      lift  \\\n",
       "91            0.013015            0.108998  0.005796    0.445312  4.085493   \n",
       "\n",
       "    leverage  conviction  antecedent_len  \n",
       "91  0.004377    1.606313            9835  "
      ]
     },
     "execution_count": 24,
     "metadata": {},
     "output_type": "execute_result"
    }
   ],
   "source": [
    "rules[rules['antecedents']=={'other vegetables', 'citrus fruit', 'whole milk'}]"
   ]
  },
  {
   "cell_type": "code",
   "execution_count": 25,
   "metadata": {
    "ExecuteTime": {
     "end_time": "2020-12-30T05:59:29.659026Z",
     "start_time": "2020-12-30T05:59:29.626941Z"
    }
   },
   "outputs": [
    {
     "data": {
      "text/html": [
       "<div>\n",
       "<style scoped>\n",
       "    .dataframe tbody tr th:only-of-type {\n",
       "        vertical-align: middle;\n",
       "    }\n",
       "\n",
       "    .dataframe tbody tr th {\n",
       "        vertical-align: top;\n",
       "    }\n",
       "\n",
       "    .dataframe thead th {\n",
       "        text-align: right;\n",
       "    }\n",
       "</style>\n",
       "<table border=\"1\" class=\"dataframe\">\n",
       "  <thead>\n",
       "    <tr style=\"text-align: right;\">\n",
       "      <th></th>\n",
       "      <th>antecedents</th>\n",
       "      <th>consequents</th>\n",
       "      <th>antecedent support</th>\n",
       "      <th>consequent support</th>\n",
       "      <th>support</th>\n",
       "      <th>confidence</th>\n",
       "      <th>lift</th>\n",
       "      <th>leverage</th>\n",
       "      <th>conviction</th>\n",
       "      <th>antecedent_len</th>\n",
       "    </tr>\n",
       "  </thead>\n",
       "  <tbody>\n",
       "    <tr>\n",
       "      <th>167</th>\n",
       "      <td>(domestic eggs, margarine)</td>\n",
       "      <td>(whole milk)</td>\n",
       "      <td>0.008338</td>\n",
       "      <td>0.255516</td>\n",
       "      <td>0.005186</td>\n",
       "      <td>0.621951</td>\n",
       "      <td>2.434099</td>\n",
       "      <td>0.003055</td>\n",
       "      <td>1.96928</td>\n",
       "      <td>9835</td>\n",
       "    </tr>\n",
       "  </tbody>\n",
       "</table>\n",
       "</div>"
      ],
      "text/plain": [
       "                    antecedents   consequents  antecedent support  \\\n",
       "167  (domestic eggs, margarine)  (whole milk)            0.008338   \n",
       "\n",
       "     consequent support   support  confidence      lift  leverage  conviction  \\\n",
       "167            0.255516  0.005186    0.621951  2.434099  0.003055     1.96928   \n",
       "\n",
       "     antecedent_len  \n",
       "167            9835  "
      ]
     },
     "execution_count": 25,
     "metadata": {},
     "output_type": "execute_result"
    }
   ],
   "source": [
    "rules[rules['antecedents']=={'domestic eggs', 'margarine'}]"
   ]
  },
  {
   "cell_type": "code",
   "execution_count": 26,
   "metadata": {
    "ExecuteTime": {
     "end_time": "2020-12-30T05:59:30.005622Z",
     "start_time": "2020-12-30T05:59:29.986069Z"
    }
   },
   "outputs": [
    {
     "data": {
      "text/html": [
       "<div>\n",
       "<style scoped>\n",
       "    .dataframe tbody tr th:only-of-type {\n",
       "        vertical-align: middle;\n",
       "    }\n",
       "\n",
       "    .dataframe tbody tr th {\n",
       "        vertical-align: top;\n",
       "    }\n",
       "\n",
       "    .dataframe thead th {\n",
       "        text-align: right;\n",
       "    }\n",
       "</style>\n",
       "<table border=\"1\" class=\"dataframe\">\n",
       "  <thead>\n",
       "    <tr style=\"text-align: right;\">\n",
       "      <th></th>\n",
       "      <th>antecedents</th>\n",
       "      <th>consequents</th>\n",
       "      <th>antecedent support</th>\n",
       "      <th>consequent support</th>\n",
       "      <th>support</th>\n",
       "      <th>confidence</th>\n",
       "      <th>lift</th>\n",
       "      <th>leverage</th>\n",
       "      <th>conviction</th>\n",
       "      <th>antecedent_len</th>\n",
       "    </tr>\n",
       "  </thead>\n",
       "  <tbody>\n",
       "    <tr>\n",
       "      <th>2900</th>\n",
       "      <td>(onions, root vegetables)</td>\n",
       "      <td>(other vegetables)</td>\n",
       "      <td>0.009456</td>\n",
       "      <td>0.193493</td>\n",
       "      <td>0.005694</td>\n",
       "      <td>0.602151</td>\n",
       "      <td>3.112008</td>\n",
       "      <td>0.003864</td>\n",
       "      <td>2.027167</td>\n",
       "      <td>9835</td>\n",
       "    </tr>\n",
       "  </tbody>\n",
       "</table>\n",
       "</div>"
      ],
      "text/plain": [
       "                    antecedents         consequents  antecedent support  \\\n",
       "2900  (onions, root vegetables)  (other vegetables)            0.009456   \n",
       "\n",
       "      consequent support   support  confidence      lift  leverage  \\\n",
       "2900            0.193493  0.005694    0.602151  3.112008  0.003864   \n",
       "\n",
       "      conviction  antecedent_len  \n",
       "2900    2.027167            9835  "
      ]
     },
     "execution_count": 26,
     "metadata": {},
     "output_type": "execute_result"
    }
   ],
   "source": [
    "rules[rules['antecedents']=={'root vegetables', 'onions'}]"
   ]
  },
  {
   "cell_type": "markdown",
   "metadata": {},
   "source": [
    "  #                         ********** Visualizing results:-\n",
    "\n",
    "# Support vs Confidence"
   ]
  },
  {
   "cell_type": "code",
   "execution_count": 37,
   "metadata": {
    "ExecuteTime": {
     "end_time": "2020-12-30T06:01:56.962681Z",
     "start_time": "2020-12-30T06:01:56.688993Z"
    }
   },
   "outputs": [
    {
     "data": {
      "image/png": "[encoded data removed]",
      "text/plain": [
       "<Figure size 432x288 with 1 Axes>"
      ]
     },
     "metadata": {
      "needs_background": "light"
     },
     "output_type": "display_data"
    }
   ],
   "source": [
    "plt.scatter(rules['support'],rules['confidence'],alpha=0.5)\n",
    "\n",
    "plt.xlabel('support')\n",
    "plt.ylabel('confidence')\n",
    "plt.title('Support vs Confidence')\n",
    "plt.show()\n"
   ]
  },
  {
   "cell_type": "markdown",
   "metadata": {},
   "source": [
    "# Support vs Lift"
   ]
  },
  {
   "cell_type": "code",
   "execution_count": 70,
   "metadata": {
    "ExecuteTime": {
     "end_time": "2020-12-29T18:24:29.265691Z",
     "start_time": "2020-12-29T18:24:28.993693Z"
    }
   },
   "outputs": [
    {
     "data": {
      "image/png": "[encoded data removed]",
      "text/plain": [
       "<Figure size 432x288 with 1 Axes>"
      ]
     },
     "metadata": {
      "needs_background": "light"
     },
     "output_type": "display_data"
    }
   ],
   "source": [
    "plt.scatter(rules['support'],rules['lift'], alpha=0.5)\n",
    "plt.xlabel('support')\n",
    "plt.ylabel('lift')\n",
    "plt.title('Support vs Lift')\n",
    "plt.show()"
   ]
  },
  {
   "cell_type": "markdown",
   "metadata": {},
   "source": [
    "# Lift vs Confidence"
   ]
  },
  {
   "cell_type": "code",
   "execution_count": 71,
   "metadata": {
    "ExecuteTime": {
     "end_time": "2020-12-29T18:25:43.841925Z",
     "start_time": "2020-12-29T18:25:42.928755Z"
    }
   },
   "outputs": [
    {
     "data": {
      "text/plain": [
       "[<matplotlib.lines.Line2D at 0x9702c165e0>,\n",
       " <matplotlib.lines.Line2D at 0x9702c16070>]"
      ]
     },
     "execution_count": 71,
     "metadata": {},
     "output_type": "execute_result"
    },
    {
     "data": {
      "image/png": "[encoded data removed]",
      "text/plain": [
       "<Figure size 432x288 with 1 Axes>"
      ]
     },
     "metadata": {
      "needs_background": "light"
     },
     "output_type": "display_data"
    }
   ],
   "source": [
    "fit = np.polyfit(rules['lift'], rules['confidence'], 1)\n",
    "fit_fn = np.poly1d(fit)\n",
    "plt.plot(rules['lift'], rules['confidence'], 'yo', rules['lift'], \n",
    " fit_fn(rules['lift']))"
   ]
  },
  {
   "cell_type": "code",
   "execution_count": 242,
   "metadata": {
    "ExecuteTime": {
     "end_time": "2020-12-29T20:14:58.871743Z",
     "start_time": "2020-12-29T20:14:58.855947Z"
    }
   },
   "outputs": [],
   "source": [
    "frequent_itemsets.sort_values('support',ascending = False,inplace=True)"
   ]
  },
  {
   "cell_type": "code",
   "execution_count": 38,
   "metadata": {
    "ExecuteTime": {
     "end_time": "2020-12-30T06:02:29.519901Z",
     "start_time": "2020-12-30T06:02:29.229061Z"
    }
   },
   "outputs": [
    {
     "name": "stderr",
     "output_type": "stream",
     "text": [
      "<ipython-input-38-6c0224333500>:5: MatplotlibDeprecationWarning: Using a string of single character colors as a color sequence is deprecated since 3.2 and will be removed two minor releases later. Use an explicit list instead.\n",
      "  plt.bar(x=list(range(0,11)) ,height=frequent_itemsets_a.support[0:11],color='rgbkymc');plt.xticks(list(range(0,11),),items[0:11]);plt.xlabel(\"item-sets\");\n"
     ]
    },
    {
     "data": {
      "text/plain": [
       "Text(0, 0.5, 'support')"
      ]
     },
     "execution_count": 38,
     "metadata": {},
     "output_type": "execute_result"
    },
    {
     "data": {
      "image/png": "[encoded data removed]",
      "text/plain": [
       "<Figure size 1080x360 with 1 Axes>"
      ]
     },
     "metadata": {
      "needs_background": "light"
     },
     "output_type": "display_data"
    }
   ],
   "source": [
    "# barplot of top 10 \n",
    "\n",
    "import matplotlib.pyplot as plt\n",
    "plt.figure(figsize=(15, 5))\n",
    "plt.bar(x=list(range(0,11)) ,height=frequent_itemsets_a.support[0:11],color='rgbkymc');plt.xticks(list(range(0,11),),items[0:11]);plt.xlabel(\"item-sets\");\n",
    "plt.ylabel(\"support\")"
   ]
  },
  {
   "cell_type": "code",
   "execution_count": 97,
   "metadata": {
    "ExecuteTime": {
     "end_time": "2020-12-29T18:55:20.034186Z",
     "start_time": "2020-12-29T18:55:19.986184Z"
    }
   },
   "outputs": [],
   "source": [
    "rules = association_rules(frequent_itemsets_a, metric=\"lift\", min_threshold=1)\n",
    "rules.head(20)\n",
    "rules.sort_values('lift',ascending = False,inplace=True)"
   ]
  },
  {
   "cell_type": "markdown",
   "metadata": {},
   "source": [
    "#        ###########To eliminate Redudancy in Rules ############"
   ]
  },
  {
   "cell_type": "code",
   "execution_count": 39,
   "metadata": {
    "ExecuteTime": {
     "end_time": "2020-12-30T06:04:37.991715Z",
     "start_time": "2020-12-30T06:04:37.811509Z"
    }
   },
   "outputs": [],
   "source": [
    "from mlxtend.frequent_patterns import association_rules\n",
    "def to_list(i):\n",
    "    return (sorted(list(i)))\n",
    "\n",
    "\n",
    "ma_X = rules.antecedents.apply(to_list)+rules.consequents.apply(to_list)\n",
    "\n",
    "\n",
    "ma_X = ma_X.apply(sorted)\n",
    "\n",
    "rules_sets = list(ma_X)\n"
   ]
  },
  {
   "cell_type": "code",
   "execution_count": 40,
   "metadata": {
    "ExecuteTime": {
     "end_time": "2020-12-30T06:04:38.596969Z",
     "start_time": "2020-12-30T06:04:38.535651Z"
    }
   },
   "outputs": [],
   "source": [
    "unique_rules_sets = [list(m) for m in set(tuple(i) for i in rules_sets)]\n",
    "index_rules = []\n",
    "for i in unique_rules_sets:\n",
    "    index_rules.append(rules_sets.index(i))\n"
   ]
  },
  {
   "cell_type": "code",
   "execution_count": 41,
   "metadata": {
    "ExecuteTime": {
     "end_time": "2020-12-30T06:04:39.127674Z",
     "start_time": "2020-12-30T06:04:39.108624Z"
    }
   },
   "outputs": [],
   "source": [
    "# getting rules without any redudancy \n",
    "rules_no_redudancy  = rules.iloc[index_rules,:]\n",
    "\n"
   ]
  },
  {
   "cell_type": "code",
   "execution_count": 42,
   "metadata": {
    "ExecuteTime": {
     "end_time": "2020-12-30T06:04:39.894811Z",
     "start_time": "2020-12-30T06:04:39.852484Z"
    }
   },
   "outputs": [
    {
     "data": {
      "text/html": [
       "<div>\n",
       "<style scoped>\n",
       "    .dataframe tbody tr th:only-of-type {\n",
       "        vertical-align: middle;\n",
       "    }\n",
       "\n",
       "    .dataframe tbody tr th {\n",
       "        vertical-align: top;\n",
       "    }\n",
       "\n",
       "    .dataframe thead th {\n",
       "        text-align: right;\n",
       "    }\n",
       "</style>\n",
       "<table border=\"1\" class=\"dataframe\">\n",
       "  <thead>\n",
       "    <tr style=\"text-align: right;\">\n",
       "      <th></th>\n",
       "      <th>antecedents</th>\n",
       "      <th>consequents</th>\n",
       "      <th>antecedent support</th>\n",
       "      <th>consequent support</th>\n",
       "      <th>support</th>\n",
       "      <th>confidence</th>\n",
       "      <th>lift</th>\n",
       "      <th>leverage</th>\n",
       "      <th>conviction</th>\n",
       "      <th>antecedent_len</th>\n",
       "    </tr>\n",
       "  </thead>\n",
       "  <tbody>\n",
       "    <tr>\n",
       "      <th>2750</th>\n",
       "      <td>(ham)</td>\n",
       "      <td>(white bread)</td>\n",
       "      <td>0.026029</td>\n",
       "      <td>0.042095</td>\n",
       "      <td>0.005084</td>\n",
       "      <td>0.195312</td>\n",
       "      <td>4.639851</td>\n",
       "      <td>0.003988</td>\n",
       "      <td>1.190407</td>\n",
       "      <td>9835</td>\n",
       "    </tr>\n",
       "    <tr>\n",
       "      <th>2916</th>\n",
       "      <td>(herbs)</td>\n",
       "      <td>(root vegetables)</td>\n",
       "      <td>0.016268</td>\n",
       "      <td>0.108998</td>\n",
       "      <td>0.007016</td>\n",
       "      <td>0.431250</td>\n",
       "      <td>3.956477</td>\n",
       "      <td>0.005243</td>\n",
       "      <td>1.566596</td>\n",
       "      <td>9835</td>\n",
       "    </tr>\n",
       "    <tr>\n",
       "      <th>562</th>\n",
       "      <td>(pip fruit, citrus fruit)</td>\n",
       "      <td>(tropical fruit)</td>\n",
       "      <td>0.013828</td>\n",
       "      <td>0.104931</td>\n",
       "      <td>0.005592</td>\n",
       "      <td>0.404412</td>\n",
       "      <td>3.854060</td>\n",
       "      <td>0.004141</td>\n",
       "      <td>1.502831</td>\n",
       "      <td>9835</td>\n",
       "    </tr>\n",
       "    <tr>\n",
       "      <th>2552</th>\n",
       "      <td>(whipped/sour cream)</td>\n",
       "      <td>(berries)</td>\n",
       "      <td>0.071683</td>\n",
       "      <td>0.033249</td>\n",
       "      <td>0.009049</td>\n",
       "      <td>0.126241</td>\n",
       "      <td>3.796886</td>\n",
       "      <td>0.006666</td>\n",
       "      <td>1.106428</td>\n",
       "      <td>9835</td>\n",
       "    </tr>\n",
       "    <tr>\n",
       "      <th>396</th>\n",
       "      <td>(yogurt, root vegetables, whole milk)</td>\n",
       "      <td>(tropical fruit)</td>\n",
       "      <td>0.014540</td>\n",
       "      <td>0.104931</td>\n",
       "      <td>0.005694</td>\n",
       "      <td>0.391608</td>\n",
       "      <td>3.732043</td>\n",
       "      <td>0.004168</td>\n",
       "      <td>1.471205</td>\n",
       "      <td>9835</td>\n",
       "    </tr>\n",
       "    <tr>\n",
       "      <th>2292</th>\n",
       "      <td>(napkins)</td>\n",
       "      <td>(hygiene articles)</td>\n",
       "      <td>0.052364</td>\n",
       "      <td>0.032944</td>\n",
       "      <td>0.006101</td>\n",
       "      <td>0.116505</td>\n",
       "      <td>3.536498</td>\n",
       "      <td>0.004376</td>\n",
       "      <td>1.094580</td>\n",
       "      <td>9835</td>\n",
       "    </tr>\n",
       "    <tr>\n",
       "      <th>2372</th>\n",
       "      <td>(yogurt, root vegetables)</td>\n",
       "      <td>(whipped/sour cream)</td>\n",
       "      <td>0.025826</td>\n",
       "      <td>0.071683</td>\n",
       "      <td>0.006406</td>\n",
       "      <td>0.248031</td>\n",
       "      <td>3.460127</td>\n",
       "      <td>0.004554</td>\n",
       "      <td>1.234516</td>\n",
       "      <td>9835</td>\n",
       "    </tr>\n",
       "    <tr>\n",
       "      <th>832</th>\n",
       "      <td>(butter, whole milk)</td>\n",
       "      <td>(whipped/sour cream)</td>\n",
       "      <td>0.027555</td>\n",
       "      <td>0.071683</td>\n",
       "      <td>0.006711</td>\n",
       "      <td>0.243542</td>\n",
       "      <td>3.397503</td>\n",
       "      <td>0.004736</td>\n",
       "      <td>1.227190</td>\n",
       "      <td>9835</td>\n",
       "    </tr>\n",
       "    <tr>\n",
       "      <th>518</th>\n",
       "      <td>(yogurt, pip fruit)</td>\n",
       "      <td>(tropical fruit)</td>\n",
       "      <td>0.017997</td>\n",
       "      <td>0.104931</td>\n",
       "      <td>0.006406</td>\n",
       "      <td>0.355932</td>\n",
       "      <td>3.392048</td>\n",
       "      <td>0.004517</td>\n",
       "      <td>1.389712</td>\n",
       "      <td>9835</td>\n",
       "    </tr>\n",
       "    <tr>\n",
       "      <th>1104</th>\n",
       "      <td>(yogurt, whole milk)</td>\n",
       "      <td>(curd)</td>\n",
       "      <td>0.056024</td>\n",
       "      <td>0.053279</td>\n",
       "      <td>0.010066</td>\n",
       "      <td>0.179673</td>\n",
       "      <td>3.372304</td>\n",
       "      <td>0.007081</td>\n",
       "      <td>1.154078</td>\n",
       "      <td>9835</td>\n",
       "    </tr>\n",
       "  </tbody>\n",
       "</table>\n",
       "</div>"
      ],
      "text/plain": [
       "                                antecedents           consequents  \\\n",
       "2750                                  (ham)         (white bread)   \n",
       "2916                                (herbs)     (root vegetables)   \n",
       "562               (pip fruit, citrus fruit)      (tropical fruit)   \n",
       "2552                   (whipped/sour cream)             (berries)   \n",
       "396   (yogurt, root vegetables, whole milk)      (tropical fruit)   \n",
       "2292                              (napkins)    (hygiene articles)   \n",
       "2372              (yogurt, root vegetables)  (whipped/sour cream)   \n",
       "832                    (butter, whole milk)  (whipped/sour cream)   \n",
       "518                     (yogurt, pip fruit)      (tropical fruit)   \n",
       "1104                   (yogurt, whole milk)                (curd)   \n",
       "\n",
       "      antecedent support  consequent support   support  confidence      lift  \\\n",
       "2750            0.026029            0.042095  0.005084    0.195312  4.639851   \n",
       "2916            0.016268            0.108998  0.007016    0.431250  3.956477   \n",
       "562             0.013828            0.104931  0.005592    0.404412  3.854060   \n",
       "2552            0.071683            0.033249  0.009049    0.126241  3.796886   \n",
       "396             0.014540            0.104931  0.005694    0.391608  3.732043   \n",
       "2292            0.052364            0.032944  0.006101    0.116505  3.536498   \n",
       "2372            0.025826            0.071683  0.006406    0.248031  3.460127   \n",
       "832             0.027555            0.071683  0.006711    0.243542  3.397503   \n",
       "518             0.017997            0.104931  0.006406    0.355932  3.392048   \n",
       "1104            0.056024            0.053279  0.010066    0.179673  3.372304   \n",
       "\n",
       "      leverage  conviction  antecedent_len  \n",
       "2750  0.003988    1.190407            9835  \n",
       "2916  0.005243    1.566596            9835  \n",
       "562   0.004141    1.502831            9835  \n",
       "2552  0.006666    1.106428            9835  \n",
       "396   0.004168    1.471205            9835  \n",
       "2292  0.004376    1.094580            9835  \n",
       "2372  0.004554    1.234516            9835  \n",
       "832   0.004736    1.227190            9835  \n",
       "518   0.004517    1.389712            9835  \n",
       "1104  0.007081    1.154078            9835  "
      ]
     },
     "execution_count": 42,
     "metadata": {},
     "output_type": "execute_result"
    }
   ],
   "source": [
    "# Sorting them with respect to list and getting top 10 rules \n",
    "rules_no_redudancy.sort_values('lift',ascending=False).head(10)\n",
    "\n"
   ]
  },
  {
   "cell_type": "markdown",
   "metadata": {},
   "source": [
    "#  The first rule & the second rule. states that the support for Vegitables and sausage compared to its default sale."
   ]
  },
  {
   "cell_type": "code",
   "execution_count": null,
   "metadata": {},
   "outputs": [],
   "source": []
  }
 ],
 "metadata": {
  "kernelspec": {
   "display_name": "Python 3",
   "language": "python",
   "name": "python3"
  },
  "language_info": {
   "codemirror_mode": {
    "name": "ipython",
    "version": 3
   },
   "file_extension": ".py",
   "mimetype": "text/x-python",
   "name": "python",
   "nbconvert_exporter": "python",
   "pygments_lexer": "ipython3",
   "version": "3.8.3"
  },
  "varInspector": {
   "cols": {
    "lenName": 16,
    "lenType": 16,
    "lenVar": 40
   },
   "kernels_config": {
    "python": {
     "delete_cmd_postfix": "",
     "delete_cmd_prefix": "del ",
     "library": "var_list.py",
     "varRefreshCmd": "print(var_dic_list())"
    },
    "r": {
     "delete_cmd_postfix": ") ",
     "delete_cmd_prefix": "rm(",
     "library": "var_list.r",
     "varRefreshCmd": "cat(var_dic_list()) "
    }
   },
   "types_to_exclude": [
    "module",
    "function",
    "builtin_function_or_method",
    "instance",
    "_Feature"
   ],
   "window_display": false
  }
 },
 "nbformat": 4,
 "nbformat_minor": 2
}
